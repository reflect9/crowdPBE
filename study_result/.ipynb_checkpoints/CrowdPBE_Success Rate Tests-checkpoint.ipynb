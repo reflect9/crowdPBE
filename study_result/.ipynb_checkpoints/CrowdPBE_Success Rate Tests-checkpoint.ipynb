{
 "cells": [
  {
   "cell_type": "code",
   "execution_count": 1,
   "metadata": {
    "collapsed": false
   },
   "outputs": [
    {
     "name": "stderr",
     "output_type": "stream",
     "text": [
      "/Users/takyeonlee/anaconda/lib/python2.7/site-packages/matplotlib/font_manager.py:273: UserWarning: Matplotlib is building the font cache using fc-list. This may take a moment.\n",
      "  warnings.warn('Matplotlib is building the font cache using fc-list. This may take a moment.')\n"
     ]
    }
   ],
   "source": [
    "%matplotlib inline\n",
    "import pandas as pd\n",
    "import numpy as np\n",
    "import matplotlib.pyplot as plt\n",
    "import json, csv\n",
    "import scipy\n",
    "from pprint import pprint"
   ]
  },
  {
   "cell_type": "code",
   "execution_count": 16,
   "metadata": {
    "collapsed": false
   },
   "outputs": [],
   "source": [
    "# PREPARING CSV DATA FOR ARTools in R (for nonparametric factorial ANOVA - repeated measure for two conditions)\n",
    "data = []\n",
    "result = []\n",
    "with open(\"success_raw.csv\", mode='r') as infile:\n",
    "    result.append([\"pi\",\"condition\",\"task\",\"success\"])\n",
    "    task_list = next(infile).split(\",\")[2:-1]\n",
    "    for row in infile:\n",
    "        pi = row.split(\",\")[0]\n",
    "        condition = row.split(\",\")[1]\n",
    "        suc_list = row.split(\",\")[2:-1]\n",
    "        for si, suc in enumerate(suc_list):\n",
    "          result.append([pi, condition, task_list[si], suc])\n",
    "with open(\"success_by_cond_task.csv\", mode=\"w\") as outfile:\n",
    "    writer = csv.writer(outfile, delimiter=',',\n",
    "                            quotechar='|', quoting=csv.QUOTE_MINIMAL)\n",
    "    for row in result:\n",
    "        writer.writerow(row)\n"
   ]
  },
  {
   "cell_type": "raw",
   "metadata": {},
   "source": [
    "## BELOW IS THE RESULT FROM R - using ARTools\n",
    "> mydata <- read.csv(\"Documents/study/PhD Thesis Project/prototype/MIXEDVESPY-mturk/study_result/success_by_cond_task.csv\")\n",
    "> mydf = data.frame(mydata)\n",
    "> mydataArt <- art(success ~ condition*task + Error(pi), data=mydata)\n",
    "> mydataArt\n",
    "Aligned Rank Transform of Factorial Model\n",
    "\n",
    "Call:\n",
    "art(formula = success ~ condition * task + Error(pi), data = mydata)\n",
    "\n",
    "Column sums of aligned responses (should all be ~0):\n",
    "     condition           task condition:task \n",
    "             0              0              0 \n",
    "\n",
    "F values of ANOVAs on aligned responses not of interest (should all be ~0):\n",
    "   Min. 1st Qu.  Median    Mean 3rd Qu.    Max. \n",
    "      0       0       0       0       0       0 \n",
    "> anova(mydataArt)\n",
    "Analysis of Variance of Aligned Rank Transformed Data\n",
    "\n",
    "Table Type: Repeated Measures Analysis of Variance Table (Type I) \n",
    "Model: Repeated Measures (aov)\n",
    "Response: art(success)\n",
    "\n",
    "                 Error Df Df.res F value     Pr(>F)    \n",
    "1 condition         pi  1     28  26.012 2.1086e-05 ***\n",
    "2 task           Withn  4    112   6.940 4.9935e-05 ***\n",
    "3 condition:task Withn  4    112   2.784   0.030024   *\n",
    "---\n",
    "Signif. codes:   0 ‘***’ 0.001 ‘**’ 0.01 ‘*’ 0.05 ‘.’ 0.1 ‘ ’ 1 \n",
    "> "
   ]
  },
  {
   "cell_type": "code",
   "execution_count": null,
   "metadata": {
    "collapsed": true
   },
   "outputs": [],
   "source": [
    "# PREPARING CSV DATA FOR ARTools.  2: CHECKING THE EFFECT OF DEMOGRAPHIC FACTORS\n",
    "data = []\n",
    "result = []\n",
    "with open(\"demo_success_raw.csv\", mode='r') as infile:\n",
    "    result.append(infile.readline().split(\",\"))\n",
    "    task_list = next(infile).split(\",\")[2:-1]\n",
    "#     for row in infile:\n",
    "#         pi = row.split(\",\")[0]\n",
    "#         condition = row.split(\",\")[1]\n",
    "#         suc_list = row.split(\",\")[2:-1]\n",
    "#         for si, suc in enumerate(suc_list):\n",
    "#           result.append([pi, condition, task_list[si], suc])\n",
    "# with open(\"success_by_cond_task.csv\", mode=\"w\") as outfile:\n",
    "#     writer = csv.writer(outfile, delimiter=',',\n",
    "#                             quotechar='|', quoting=csv.QUOTE_MINIMAL)\n",
    "#     for row in result:\n",
    "#         writer.writerow(row)\n",
    "\n"
   ]
  }
 ],
 "metadata": {
  "anaconda-cloud": {},
  "kernelspec": {
   "display_name": "Python [default]",
   "language": "python",
   "name": "python2"
  },
  "language_info": {
   "codemirror_mode": {
    "name": "ipython",
    "version": 2
   },
   "file_extension": ".py",
   "mimetype": "text/x-python",
   "name": "python",
   "nbconvert_exporter": "python",
   "pygments_lexer": "ipython2",
   "version": "2.7.12"
  }
 },
 "nbformat": 4,
 "nbformat_minor": 1
}
